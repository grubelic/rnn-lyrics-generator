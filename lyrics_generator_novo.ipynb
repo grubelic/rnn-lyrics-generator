{
 "cells": [
  {
   "cell_type": "code",
   "execution_count": 1,
   "metadata": {
    "executionInfo": {
     "elapsed": 3243,
     "status": "ok",
     "timestamp": 1641206463891,
     "user": {
      "displayName": "Eva Smuc",
      "photoUrl": "https://lh3.googleusercontent.com/a/default-user=s64",
      "userId": "14867067531466493907"
     },
     "user_tz": -60
    },
    "id": "Ptn4yR3RF9Gl"
   },
   "outputs": [],
   "source": [
    "import keras\n",
    "from keras.preprocessing.sequence import pad_sequences\n",
    "from keras.layers import Embedding, LSTM, Dense, SimpleRNN, Dropout, Bidirectional\n",
    "from keras.preprocessing.text import Tokenizer, tokenizer_from_json\n",
    "from keras.callbacks import EarlyStopping\n",
    "from keras.models import Sequential\n",
    "import keras.utils as ku \n",
    "import string, os, random, re\n",
    "from base64 import urlsafe_b64encode as b64\n",
    "import tensorflow as tf\n",
    "import pandas as pd\n",
    "import numpy as np\n",
    "# from keras import utils as np_utils\n",
    "from tqdm import tqdm # pip3 install tqdm\n",
    "import enchant # pip3 install pyenchant\n",
    "import matplotlib.pyplot as plt"
   ]
  },
  {
   "cell_type": "code",
   "execution_count": 2,
   "metadata": {},
   "outputs": [
    {
     "name": "stdout",
     "output_type": "stream",
     "text": [
      "tokenizers\\Artist_Bob Marley_-_200_-_1_-_1_-_4_-_1_-_0_-_1_-_.json\n"
     ]
    }
   ],
   "source": [
    "DATA_SUBSET = \"Artist_Bob Marley\" # \"60_en_US\" # or \"Artist_Bob Dylan\"\n",
    "LYRICS_LIMIT = 200 # 0 for no limit, don't use negative numbers\n",
    "ENDL_AS_TOKEN = True # False not supported\n",
    "REMOVE_TAGS = True\n",
    "N_GRAMS_LINES = 4 # 0 for circular: TODO\n",
    "DROP_DUPLICATES = True\n",
    "REMOVE_EMPTY_ROWS = False\n",
    "REMOVE_DOUBLE_EMPTY_ROWS = True\n",
    "ARCHITECTURES = [\"SimpleLSTM\", \"SimpleRNN\", \"BiLSTM\"]\n",
    "BLACKLIST = () # (\"fuc\", \"bitc\", \"nigg\")\n",
    "\n",
    "# dataset config string, used to differentiate stored models\n",
    "# and traning histories\n",
    "# TODO: Low priority -- remove separator between booleans\n",
    "CONFIG = '_-_'.join([\n",
    "    str(it) if type(it) is not bool else ('1' if it else '0')\n",
    "    for it in\n",
    "    [DATA_SUBSET, LYRICS_LIMIT, ENDL_AS_TOKEN, REMOVE_TAGS, N_GRAMS_LINES,\n",
    "    DROP_DUPLICATES, REMOVE_EMPTY_ROWS, REMOVE_DOUBLE_EMPTY_ROWS,\n",
    "    b64(hash(BLACKLIST).to_bytes(8, \"little\")).decode(\"ascii\") if BLACKLIST else \"\"]\n",
    "])\n",
    "\n",
    "histories = {}\n",
    "models = {}\n",
    "\n",
    "for dirname in (\"models\", \"tokenizers\", \"histories\"):\n",
    "    if not os.path.isdir(dirname):\n",
    "        os.mkdir(dirname)\n",
    "\n",
    "# get a string describing dataset and/or other parameters\n",
    "# needed for storing and loading training results and tokenizers\n",
    "def get_fn(what_for, architecture=None, epoch=None, config=CONFIG):\n",
    "    what_for = what_for.lower()\n",
    "    if what_for.startswith('t'): # tokenizer\n",
    "        return os.path.join(\"tokenizers\", config + \".json\")\n",
    "    elif what_for.startswith('m'): # model\n",
    "        assert architecture is not None and epoch is not None\n",
    "        return os.path.join(\"models\",\n",
    "                            \"_-_\".join((str(epoch), architecture, config)))\n",
    "    elif what_for.startswith('h'): # history\n",
    "        assert architecture is not None\n",
    "        return os.path.join(\"histories\",\n",
    "                            \"_-_\".join((architecture, config)) + \".csv\")\n",
    "        \n",
    "print(get_fn('m', ARCHITECTURES[0], 80))"
   ]
  },
  {
   "cell_type": "code",
   "execution_count": 3,
   "metadata": {},
   "outputs": [],
   "source": [
    "def get_lyrics(songs, artist, title=None):\n",
    "    if title is None: return songs[(songs.artist == artist)]\n",
    "    return songs[(songs.artist == artist) & (songs.title == title)]\n",
    "\n",
    "def is_correct_language(lyrics, enchant_dict, retain_rate):\n",
    "    ws = keras.preprocessing.text.text_to_word_sequence(lyrics)\n",
    "    return sum(map(enchant_dict.check, ws)) >= retain_rate * len(ws)\n",
    "\n",
    "def contains_bad_words(lyrics, blacklist):\n",
    "    for blacklisted in blacklist:\n",
    "        if blacklisted in lyrics:\n",
    "            print(\"Blacklisted\")\n",
    "            return True\n",
    "    return False"
   ]
  },
  {
   "cell_type": "code",
   "execution_count": 4,
   "metadata": {},
   "outputs": [],
   "source": [
    "songs = pd.read_csv('./datasets/labeled_lyrics_cleaned.csv',\n",
    "                    usecols=[\"artist\", \"seq\", \"song\"])\n",
    "songs.rename(columns={\"seq\": \"lyrics\", \"song\": \"title\"}, inplace=True)\n",
    "songs.dropna(inplace=True)\n",
    "if REMOVE_TAGS:\n",
    "    songs.lyrics = songs.lyrics.str.strip().replace(re.compile(r\"\\r|(\\[[^\\n\\]]*])\"), '')\n",
    "else:\n",
    "    songs.lyrics = songs.lyrics.str.strip().replace('\\r', '')\n",
    "if REMOVE_EMPTY_ROWS:\n",
    "    songs.lyrics = songs.lyrics.str.replace(re.compile(r\"\\n+\"), '\\n')\n",
    "if REMOVE_DOUBLE_EMPTY_ROWS and not REMOVE_EMPTY_ROWS:\n",
    "    songs.lyrics = songs.lyrics.str.replace(re.compile(r\"\\n\\n+\"), '\\n\\n')\n",
    "if ENDL_AS_TOKEN:\n",
    "    songs.lyrics = songs.lyrics.str.replace('\\n', ' endl\\n') + ' endl'\n",
    "if DROP_DUPLICATES:\n",
    "    songs.drop_duplicates(subset=\"lyrics\", inplace=True, ignore_index=True)\n",
    "all_lyrics = []\n",
    "if DATA_SUBSET.startswith(\"Artist_\"):\n",
    "    artists_songs = get_lyrics(songs, DATA_SUBSET[7:])\n",
    "    if LYRICS_LIMIT:\n",
    "        all_lyrics = list(artists_songs.lyrics.iloc[:LYRICS_LIMIT])\n",
    "    else:\n",
    "        all_lyrics = list(artists_songs.lyrics)\n",
    "else:\n",
    "    song_iterator = songs.iterrows()\n",
    "    language = DATA_SUBSET[DATA_SUBSET.index('_') + 1:]\n",
    "    percentage = int(DATA_SUBSET[:DATA_SUBSET.index('_')]) * 0.01\n",
    "    d = enchant.Dict(language)\n",
    "    for i in tqdm(range(LYRICS_LIMIT or len(songs))):\n",
    "        index, song = next(song_iterator)\n",
    "        while (not(is_correct_language(song.lyrics, d, percentage))\n",
    "               or contains_bad_words(song, BLACKLIST)):\n",
    "            index, song = next(song_iterator)\n",
    "        all_lyrics.append(song.lyrics)\n",
    "\n",
    "lyrics_cnt = len(all_lyrics)\n",
    "print(lyrics_cnt)"
   ]
  },
  {
   "cell_type": "code",
   "execution_count": 6,
   "metadata": {
    "executionInfo": {
     "elapsed": 8,
     "status": "ok",
     "timestamp": 1641206464633,
     "user": {
      "displayName": "Eva Smuc",
      "photoUrl": "https://lh3.googleusercontent.com/a/default-user=s64",
      "userId": "14867067531466493907"
     },
     "user_tz": -60
    },
    "id": "ZDT_rYS1ECrs"
   },
   "outputs": [],
   "source": [
    "def get_sequence_of_tokens(corpus, tokenizer, lines_in_n_gram=2):\n",
    "    input_sequences = []\n",
    "    for song in tqdm(corpus):\n",
    "        token_lists = tokenizer.texts_to_sequences(song.split('\\n'))\n",
    "        for i in range(lines_in_n_gram, len(token_lists)):\n",
    "            flat = [jt for it in token_lists[i-lines_in_n_gram:i] for jt in it]\n",
    "            for j in range(1, len(flat)):\n",
    "                n_gram_sequence = flat[:j+1]\n",
    "                input_sequences.append(n_gram_sequence)\n",
    "    return input_sequences\n",
    "\n",
    "def get_padded_sequences(input_sequences):\n",
    "    max_seq_len = max([len(x) for x in input_sequences])\n",
    "    padded_input_sequences = np.array(pad_sequences(input_sequences, \n",
    "                                                     maxlen=max_seq_len,\n",
    "                                                     padding='pre'))\n",
    "    return padded_input_sequences, max_seq_len\n",
    "\n",
    "\n",
    "def prep_train_data(padded_input_sequences, total_words):\n",
    "    \n",
    "    x_train = padded_input_sequences[:,:-1]\n",
    "    labels = padded_input_sequences[:,-1]\n",
    "    labels = keras.utils.np_utils.to_categorical(labels, num_classes=total_words)\n",
    "    \n",
    "    return x_train, labels"
   ]
  },
  {
   "cell_type": "code",
   "execution_count": 7,
   "metadata": {
    "executionInfo": {
     "elapsed": 2014,
     "status": "ok",
     "timestamp": 1641206466641,
     "user": {
      "displayName": "Eva Smuc",
      "photoUrl": "https://lh3.googleusercontent.com/a/default-user=s64",
      "userId": "14867067531466493907"
     },
     "user_tz": -60
    },
    "id": "VyLnUPGMDUsw"
   },
   "outputs": [
    {
     "name": "stderr",
     "output_type": "stream",
     "text": [
      "100%|███████████████████████████████████████████████████████████████████████████████| 158/158 [00:00<00:00, 631.15it/s]\n"
     ]
    }
   ],
   "source": [
    "tokenizer_fn = get_fn(\"tokenizer\")\n",
    "if os.path.isfile(tokenizer_fn):\n",
    "    with open(tokenizer_fn, 'r', encoding=\"utf-8\") as inf:\n",
    "        tokenizer = tokenizer_from_json(inf.read())\n",
    "else:\n",
    "    tokenizer = Tokenizer()\n",
    "    tokenizer.fit_on_texts(all_lyrics)\n",
    "    with open(tokenizer_fn, 'w', encoding=\"utf-8\") as outf:\n",
    "        outf.write(tokenizer.to_json())\n",
    "total_words = len(tokenizer.word_index) + 1\n",
    "input_sequences = get_sequence_of_tokens(all_lyrics, tokenizer, 4)\n",
    "padded_input_sequences, max_seq_len = get_padded_sequences(input_sequences)\n",
    "x_train, labels = prep_train_data(padded_input_sequences,total_words)"
   ]
  },
  {
   "cell_type": "code",
   "execution_count": 8,
   "metadata": {},
   "outputs": [
    {
     "name": "stdout",
     "output_type": "stream",
     "text": [
      "64\n"
     ]
    }
   ],
   "source": [
    "# print('\\n'.join(sorted(tokenizer.word_index)), end=\"\\n\\n\\n\")\n",
    "# print('\\n'.join(tokenizer.sequences_to_texts(input_sequences[:20])))\n",
    "print(max_seq_len)"
   ]
  },
  {
   "cell_type": "code",
   "execution_count": 9,
   "metadata": {
    "colab": {
     "base_uri": "https://localhost:8080/"
    },
    "executionInfo": {
     "elapsed": 4482,
     "status": "ok",
     "timestamp": 1641206471117,
     "user": {
      "displayName": "Eva Smuc",
      "photoUrl": "https://lh3.googleusercontent.com/a/default-user=s64",
      "userId": "14867067531466493907"
     },
     "user_tz": -60
    },
    "id": "mxF0iwqmIifs",
    "outputId": "2555338e-cd4b-446d-ceb9-854d3612592b"
   },
   "outputs": [],
   "source": [
    "def build_model(architecture, max_seq_len, total_words):\n",
    "    \n",
    "    input_len = max_seq_len - 1 #zadnju predvidam\n",
    "    model = Sequential()\n",
    "    \n",
    "    # Add Input Embedding Layer\n",
    "    model.add(Embedding(total_words, 10, input_length=input_len))\n",
    "    \n",
    "    if architecture == \"SimpleLSTM\":\n",
    "        # Add Hidden Layer 1 - LSTM Layer\n",
    "        model.add(LSTM(128))\n",
    "        model.add(Dropout(0.1))\n",
    "    elif architecture == \"SimpleRNN\":\n",
    "        model.add(SimpleRNN(128))\n",
    "    elif architecture == \"BiLSTM\":\n",
    "        model.add(Bidirectional(LSTM(150, return_sequences=True)))  # A dropout layer for regularisation\n",
    "        model.add(Dropout(0.2))# Add another LSTM Layer\n",
    "        model.add(LSTM(100))\n",
    "        model.add(Dense(total_words/2, activation='relu'))\n",
    "\n",
    "    # In the last layer, the shape should be equal to the total number of words present in our corpus\n",
    "    # Add Output Layer\n",
    "    model.add(Dense(total_words, activation='softmax'))\n",
    "\n",
    "    \n",
    "    model.compile(loss='categorical_crossentropy', optimizer='adam', metrics=\"accuracy\")\n",
    "    \n",
    "    return model\n",
    "\n",
    "class StoreModelCallback(keras.callbacks.Callback):\n",
    "    MILESTONE_EPOCHS = (1, 20, 50, 80, 110)\n",
    "    def __init__(self, architecture):\n",
    "        super(StoreModelCallback, self).__init__()\n",
    "        self.architecture = architecture\n",
    "    def on_epoch_end(self, epoch, logs=None):\n",
    "        if epoch in map(lambda x: x-1, StoreModelCallback.MILESTONE_EPOCHS):\n",
    "            self.model.save(get_fn('m', self.architecture, epoch + 1))\n",
    "        \n",
    "\n",
    "# model = keras.models.load_model(\"80_-_SimpleLSTM_-_\" + CONFIG)"
   ]
  },
  {
   "cell_type": "code",
   "execution_count": 12,
   "metadata": {
    "colab": {
     "base_uri": "https://localhost:8080/",
     "height": 328
    },
    "executionInfo": {
     "elapsed": 14066,
     "status": "error",
     "timestamp": 1641206485165,
     "user": {
      "displayName": "Eva Smuc",
      "photoUrl": "https://lh3.googleusercontent.com/a/default-user=s64",
      "userId": "14867067531466493907"
     },
     "user_tz": -60
    },
    "id": "W_IxA7C-GsvA",
    "outputId": "a7d680f2-9528-424f-f632-8ed2fd46e2a6"
   },
   "outputs": [],
   "source": [
    "def train_model(x_train, labels, architecture, target_epoch, models, histories):\n",
    "    me = StoreModelCallback.MILESTONE_EPOCHS\n",
    "    key = get_fn('m', architecture, target_epoch)\n",
    "    \n",
    "    # try to find a last pretrained model in the models folder\n",
    "    last_stored_epoch = 0\n",
    "    for fn in filter(lambda x: CONFIG in x, os.listdir(\"models\")):\n",
    "        epoch = max(int(fn.split(\"_-_\")[0]), last_stored_epoch)\n",
    "        last_stored_epoch = min(epoch, target_epoch)\n",
    "    if last_stored_epoch == 0: # if there are no such models, build a new one\n",
    "        models[key] = build_model(architecture, max_seq_len, total_words)\n",
    "    else: # otherwise load the model\n",
    "        models[key] = keras.models.load_model(\n",
    "            get_fn('m', architecture, last_stored_epoch))\n",
    "    if last_stored_epoch == target_epoch:\n",
    "        return\n",
    "    res = models[key].fit(x_train, labels, epochs=target_epoch, verbose=1,\n",
    "                          callbacks=[StoreModelCallback(architecture)],\n",
    "                          initial_epoch=last_stored_epoch)\n",
    "    store_history(res, get_fn('h', architecture), histories)"
   ]
  },
  {
   "cell_type": "code",
   "execution_count": 13,
   "metadata": {},
   "outputs": [],
   "source": [
    "models = models or {}\n",
    "histories = histories or {}\n",
    "\n",
    "architecture = \"SimpleLSTM\"\n",
    "epochs = 80\n",
    "\n",
    "train_model(x_train, labels, architecture, epochs, models, histories)\n",
    "\n",
    "model = models[get_fn('m', architecture, epochs)]"
   ]
  },
  {
   "cell_type": "code",
   "execution_count": 20,
   "metadata": {},
   "outputs": [
    {
     "data": {
      "image/png": "[encoded data removed]",
      "text/plain": [
       "<Figure size 432x288 with 1 Axes>"
      ]
     },
     "metadata": {
      "needs_background": "light"
     },
     "output_type": "display_data"
    },
    {
     "data": {
      "image/png": "[encoded data removed]",
      "text/plain": [
       "<Figure size 432x288 with 1 Axes>"
      ]
     },
     "metadata": {
      "needs_background": "light"
     },
     "output_type": "display_data"
    }
   ],
   "source": [
    "def store_history(history_callback, fn, histories):\n",
    "    df = pd.DataFrame(history_callback.history)\n",
    "    if fn in histories:\n",
    "        histories[fn] = df.merge(histories[fn], how=\"left\")\n",
    "    elif os.path.isfile(fn):\n",
    "        df2 = pd.read_csv(fn, index_col=0)\n",
    "        histories[fn] = df.merge(df2, how=\"left\")\n",
    "    else:\n",
    "        histories[fn] = df\n",
    "    histories[fn].to_csv(fn)\n",
    "    \n",
    "def get_history(histories, fn):\n",
    "    if fn not in histories:\n",
    "        histories[fn] = pd.read_csv(fn, index_col=0)\n",
    "    return histories[fn]\n",
    "\n",
    "def plot_history(histories, architectures=None):\n",
    "    accuracies = []\n",
    "    losses = []\n",
    "    plt.figure()\n",
    "    if architectures is None:\n",
    "        architectures = list(histories)\n",
    "    for it in architectures:\n",
    "        history = get_history(histories, get_fn('h', it))\n",
    "        plt.plot(history.index, history.accuracy, label=it)\n",
    "    plt.xlabel(\"epochs\")\n",
    "    plt.ylabel(\"accuracy\")\n",
    "    plt.legend()\n",
    "    plt.show()\n",
    "    plt.figure()\n",
    "    for it in architectures:\n",
    "        history = get_history(histories, get_fn('h', it))\n",
    "        plt.plot(history.index, history.loss, label=it)\n",
    "    plt.xlabel(\"epochs\")\n",
    "    plt.ylabel(\"loss\")\n",
    "    plt.legend()\n",
    "    plt.show()\n",
    "try:\n",
    "    plot_history(histories, [architecture])\n",
    "except FileNotFoundError:\n",
    "    print(\"One of the architectures provided hasn't been trained yet.\")\n"
   ]
  },
  {
   "cell_type": "code",
   "execution_count": 18,
   "metadata": {
    "executionInfo": {
     "elapsed": 23,
     "status": "aborted",
     "timestamp": 1641206485156,
     "user": {
      "displayName": "Eva Smuc",
      "photoUrl": "https://lh3.googleusercontent.com/a/default-user=s64",
      "userId": "14867067531466493907"
     },
     "user_tz": -60
    },
    "id": "WeweULSNKrHc"
   },
   "outputs": [],
   "source": [
    "\n",
    "\n",
    "def generate_lyrics_endl_as_token(seed_txt,\n",
    "                                  lines_in_n_gram,\n",
    "                                  num_lines,\n",
    "                                  max_line_len,\n",
    "                                  max_seq_len,\n",
    "                                  model,\n",
    "                                  no_anaphora=False,\n",
    "                                  keep_seed=False):\n",
    "    # cleaning the seed text, adding endl and splitting into lines\n",
    "    st_list = (seed_txt.strip().replace('\\r', \"\").replace('\\n', \" endl\\n\")\n",
    "               + \" endl\").split('\\n')\n",
    "    # keep at most last lines_in_gram lines\n",
    "    st_list = st_list[max(0, len(st_list) - lines_in_n_gram):]\n",
    "    # seed text to tokens (list of tokens for each line)\n",
    "    token_list = tokenizer.texts_to_sequences(st_list)\n",
    "    if len(token_list) < lines_in_n_gram - 1:\n",
    "        pass\n",
    "    # how many lines do we need\n",
    "    lines_remaining = num_lines - (len(token_list) if keep_seed else 0)\n",
    "    # flatten all the tokens into single list\n",
    "    flat = [jt for it in token_list for jt in it]\n",
    "    endl_token = tokenizer.word_index[\"endl\"]\n",
    "    tokenized_song = []\n",
    "    curr_line = []\n",
    "    while lines_remaining:\n",
    "        # print(lines_remaining)\n",
    "        if len(curr_line) >= max_line_len:\n",
    "            prediction = endl_token\n",
    "        else:\n",
    "            padded_token_list = pad_sequences([flat], maxlen=max_seq_len-1, padding='pre')\n",
    "            predictions = model.predict(padded_token_list)\n",
    "            # print(type(predictions))\n",
    "            if (no_anaphora): # can be changed to first word only\n",
    "                for prev_line in token_list:\n",
    "                    if (len(curr_line) < len(prev_line)\n",
    "                        and curr_line == prev_line[:len(curr_line)]):\n",
    "                        # print(curr_line)\n",
    "                        word_in_prev_line = prev_line[len(curr_line)]\n",
    "                        # print(word_in_prev_line)\n",
    "                        predictions[0][word_in_prev_line] = np.min(predictions, axis=-1)\n",
    "            prediction = np.argmax(predictions, axis=-1)[0]\n",
    "        curr_line.append(prediction)\n",
    "        flat.append(prediction)\n",
    "        if prediction == endl_token:\n",
    "            lines_remaining -= 1\n",
    "            if len(token_list) >= lines_in_n_gram: del token_list[0]\n",
    "            token_list.append(curr_line)\n",
    "            tokenized_song.append(curr_line[:-1])\n",
    "            curr_line = []\n",
    "            flat = [jt for it in token_list for jt in it]\n",
    "    # print(tokenized_song[1:])\n",
    "    print('\\n'.join(\n",
    "        tokenizer.sequences_to_texts(tokenized_song)\n",
    "    ))"
   ]
  },
  {
   "cell_type": "code",
   "execution_count": 19,
   "metadata": {
    "executionInfo": {
     "elapsed": 25,
     "status": "aborted",
     "timestamp": 1641206485161,
     "user": {
      "displayName": "Eva Smuc",
      "photoUrl": "https://lh3.googleusercontent.com/a/default-user=s64",
      "userId": "14867067531466493907"
     },
     "user_tz": -60
    },
    "id": "clRleXG5Ktgl",
    "scrolled": true
   },
   "outputs": [
    {
     "name": "stdout",
     "output_type": "stream",
     "text": [
      "we'll be forever loving jah\n",
      "oh oh oh oh oh oh oh\n",
      "open country\n",
      "\n",
      "say we gonna rock it baby rock it baby\n",
      "tonight\n",
      "rock it baby rock it baby tonight\n",
      "we gonna rock it baby wo rock it baby tonight\n",
      "\n",
      "baby we've got a date don't you remember\n",
      "gonna rock it baby rock it baby tonight\n",
      "got to get together babe tonight\n",
      "say we got to get together babe tonight\n",
      "\n",
      "oh baby baby baby just just just too cok cok at i\n",
      "if you see me cryin'\n",
      "said i'm given my love to you baby\n",
      "you've got my love you've got my love\n",
      "\n",
      "whoo i'm never gonna give my love to nobody but you baby but you baby\n",
      "never gonna give my love to nobody but you baby but you baby\n",
      "i mean you what i know\n",
      "love that i will be my people\n",
      "you can't the heart i can't resist\n",
      "where i can tell the children\n",
      "in the abundance of water\n",
      "the fool is thirsty\n",
      "are you satisfied with the one drop\n",
      "and the world that the builder refuse\n",
      "shall be the head cornerstone\n",
      "you can't fool the youths\n",
      "\n",
      "no matter what you don't\n",
      "'cause we're coming in from the cold\n",
      "we're coming in we're coming in coming in coming in\n",
      "coming in coming in wooh\n",
      "and we're going to the name from the lord\n",
      "i know jah's never let us down\n",
      "pull your rights from wrong\n",
      "\n",
      "who's there yonder dressed in red\n",
      "sets my people free\n",
      "whose there yonder dressed in red\n",
      "must be the people moses led\n",
      "go tell iton the mountain\n",
      "set my people free\n",
      "\n",
      "who's just a show so man you're work\n",
      "good good good\n",
      "johnny was a good man\n",
      "me can't fool the youth\n",
      "you can't blame the youths of today\n",
      "\n",
      "how i don't see no no like no no\n",
      "i don't wanna i don't wanna i don't wanna i don't wanna i don't wanna\n",
      "the love i don't wanna i don't wanna\n",
      "just don't know that i don't wanna\n",
      "\n",
      "said i'm given my love\n",
      "you can wear my crown\n",
      "i'll be my love\n",
      "now you can dip through the good\n",
      "and hold the fire they come\n",
      "\n",
      "riding now yeah\n",
      "wake up and live now\n",
      "come on and stir it up\n"
     ]
    }
   ],
   "source": [
    "\n",
    "# duljina pjesme iz iste distribucije kao ostale\n",
    "num_lines = random.choice([it.count(\"\\n\") for it in all_lyrics])\n",
    "max_line_len = max([max([len(it.split()) for it in song.split(\"\\n\")]) for song in all_lyrics])\n",
    "\n",
    "\n",
    "seed_txt = \"\"\"Here's a little song I wrote\n",
    "You might want to sing it note for note\n",
    "Don't worry, be happy\"\"\"\n",
    "\n",
    "# seed_txt = \"\"\n",
    "\n",
    "generate_lyrics_endl_as_token(seed_txt,\n",
    "                              lines_in_n_gram=4,\n",
    "                              num_lines=num_lines,\n",
    "                              max_line_len=max_line_len,\n",
    "                              max_seq_len=max_seq_len,\n",
    "                              model=model,\n",
    "                              no_anaphora=True)\n"
   ]
  },
  {
   "cell_type": "code",
   "execution_count": null,
   "metadata": {
    "executionInfo": {
     "elapsed": 26,
     "status": "aborted",
     "timestamp": 1641206485163,
     "user": {
      "displayName": "Eva Smuc",
      "photoUrl": "https://lh3.googleusercontent.com/a/default-user=s64",
      "userId": "14867067531466493907"
     },
     "user_tz": -60
    },
    "id": "0v9-8EZrX-zp"
   },
   "outputs": [],
   "source": []
  },
  {
   "cell_type": "code",
   "execution_count": null,
   "metadata": {},
   "outputs": [],
   "source": []
  }
 ],
 "metadata": {
  "accelerator": "GPU",
  "colab": {
   "collapsed_sections": [],
   "name": "lyrics_generator.ipynb",
   "provenance": []
  },
  "kernelspec": {
   "display_name": "Python 3 (ipykernel)",
   "language": "python",
   "name": "python3"
  },
  "language_info": {
   "codemirror_mode": {
    "name": "ipython",
    "version": 3
   },
   "file_extension": ".py",
   "mimetype": "text/x-python",
   "name": "python",
   "nbconvert_exporter": "python",
   "pygments_lexer": "ipython3",
   "version": "3.9.2"
  }
 },
 "nbformat": 4,
 "nbformat_minor": 1
}
